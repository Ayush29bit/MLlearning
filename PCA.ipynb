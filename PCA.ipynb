{
 "cells": [
  {
   "cell_type": "code",
   "execution_count": 1,
   "id": "75b6bdaa-7df8-4a3b-babc-dbf12a56d97c",
   "metadata": {},
   "outputs": [],
   "source": [
    "import numpy as np\n",
    "import pandas as pd"
   ]
  },
  {
   "cell_type": "code",
   "execution_count": 5,
   "id": "30e2cf9a-e141-485c-8019-40d2c011300f",
   "metadata": {},
   "outputs": [],
   "source": [
    "np.random.seed(23)"
   ]
  },
  {
   "cell_type": "code",
   "execution_count": 6,
   "id": "bd73648c-838b-469c-8863-6934bbde13e8",
   "metadata": {},
   "outputs": [],
   "source": [
    "mu_vec1=np.array([0,0,0])\n",
    "cov_mat1=np.array([[1,0,0],[0,1,0],[0,0,1]])\n",
    "class1_sample=np.random.multivariate_normal(mu_vec1,cov_mat1,20)"
   ]
  },
  {
   "cell_type": "code",
   "execution_count": 7,
   "id": "34507c98-de97-429e-9b08-d73523e1ca75",
   "metadata": {},
   "outputs": [],
   "source": [
    "df=pd.DataFrame(class1_sample,columns=[\"feature 1\",\"feature 2\",\"feature 3\"])\n",
    "df[\"target\"]=1"
   ]
  },
  {
   "cell_type": "code",
   "execution_count": 8,
   "id": "33fba16d-81e8-43dd-8205-4b2cbdc4b9e6",
   "metadata": {},
   "outputs": [],
   "source": [
    "mu_vec2=np.array([0,0,0])\n",
    "cov_mat2=np.array([[1,0,0],[0,1,0],[0,0,1]])\n",
    "class2_sample=np.random.multivariate_normal(mu_vec2,cov_mat2,20)"
   ]
  },
  {
   "cell_type": "code",
   "execution_count": 9,
   "id": "6801342a-3c2d-4415-bfb9-f37461efa66f",
   "metadata": {},
   "outputs": [],
   "source": [
    "df1=pd.DataFrame(class2_sample,columns=[\"feature 1\",\"feature 2\",\"feature 3\"])"
   ]
  },
  {
   "cell_type": "code",
   "execution_count": 10,
   "id": "4c6bfe16-8014-48a0-929e-4a2712736812",
   "metadata": {},
   "outputs": [],
   "source": [
    "df[\"target\"]=0"
   ]
  },
  {
   "cell_type": "code",
   "execution_count": 13,
   "id": "366d91b9-217f-4c20-a9cf-f0ed9b819bd2",
   "metadata": {},
   "outputs": [],
   "source": [
    "df=pd.concat([df,df1],ignore_index=True)"
   ]
  },
  {
   "cell_type": "code",
   "execution_count": null,
   "id": "03281d99-c691-40cf-9031-5e1681530274",
   "metadata": {},
   "outputs": [],
   "source": []
  }
 ],
 "metadata": {
  "kernelspec": {
   "display_name": "Python 3 (ipykernel)",
   "language": "python",
   "name": "python3"
  },
  "language_info": {
   "codemirror_mode": {
    "name": "ipython",
    "version": 3
   },
   "file_extension": ".py",
   "mimetype": "text/x-python",
   "name": "python",
   "nbconvert_exporter": "python",
   "pygments_lexer": "ipython3",
   "version": "3.11.4"
  }
 },
 "nbformat": 4,
 "nbformat_minor": 5
}
